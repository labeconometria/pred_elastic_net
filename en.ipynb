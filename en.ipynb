{
  "nbformat": 4,
  "nbformat_minor": 0,
  "metadata": {
    "colab": {
      "provenance": []
    },
    "kernelspec": {
      "name": "python3",
      "display_name": "Python 3"
    },
    "language_info": {
      "name": "python"
    }
  },
  "cells": [
    {
      "cell_type": "code",
      "execution_count": 1,
      "metadata": {
        "colab": {
          "base_uri": "https://localhost:8080/"
        },
        "id": "otUi2cnqu-qR",
        "outputId": "cba6c2f8-d377-4926-eaff-c57d91a9ad7b"
      },
      "outputs": [
        {
          "output_type": "stream",
          "name": "stdout",
          "text": [
            "Looking in indexes: https://pypi.org/simple, https://us-python.pkg.dev/colab-wheels/public/simple/\n",
            "Collecting wooldridge\n",
            "  Downloading wooldridge-0.4.4-py3-none-any.whl (5.1 MB)\n",
            "\u001b[K     |████████████████████████████████| 5.1 MB 4.1 MB/s \n",
            "\u001b[?25hRequirement already satisfied: pandas in /usr/local/lib/python3.7/dist-packages (from wooldridge) (1.3.5)\n",
            "Requirement already satisfied: pytz>=2017.3 in /usr/local/lib/python3.7/dist-packages (from pandas->wooldridge) (2022.2.1)\n",
            "Requirement already satisfied: python-dateutil>=2.7.3 in /usr/local/lib/python3.7/dist-packages (from pandas->wooldridge) (2.8.2)\n",
            "Requirement already satisfied: numpy>=1.17.3 in /usr/local/lib/python3.7/dist-packages (from pandas->wooldridge) (1.21.6)\n",
            "Requirement already satisfied: six>=1.5 in /usr/local/lib/python3.7/dist-packages (from python-dateutil>=2.7.3->pandas->wooldridge) (1.15.0)\n",
            "Installing collected packages: wooldridge\n",
            "Successfully installed wooldridge-0.4.4\n"
          ]
        }
      ],
      "source": [
        "!pip install wooldridge\n",
        "\n",
        "import wooldridge as wd\n",
        "\n",
        "import pandas as pd\n",
        "import numpy as np\n",
        "\n",
        "from sklearn.linear_model import Ridge, Lasso, ElasticNet\n",
        "from sklearn.metrics import mean_squared_error\n",
        "from sklearn.model_selection import train_test_split, GridSearchCV"
      ]
    },
    {
      "cell_type": "code",
      "source": [
        "wage = wd.data('wage1')[['wage','educ','exper']]\n",
        "y = wage['wage']\n",
        "X = wage[['educ','exper']]"
      ],
      "metadata": {
        "id": "8kS9vaIUvS84"
      },
      "execution_count": 2,
      "outputs": []
    },
    {
      "cell_type": "code",
      "source": [
        "X_train, X_test, y_train, y_test = train_test_split(X, y, test_size=0.25, random_state=12345)"
      ],
      "metadata": {
        "id": "mMsPNW3Dvckn"
      },
      "execution_count": 3,
      "outputs": []
    },
    {
      "cell_type": "code",
      "source": [
        "def calculo_metricas(modelo, X_train, y_train, X_test, y_test):\n",
        "  model = modelo\n",
        "  model.fit(X_train, y_train)\n",
        "  y_pred = model.predict(X_test)\n",
        "  y_pred_tr = model.predict(X_train)\n",
        "  return mean_squared_error(y_train, y_pred_tr), mean_squared_error(y_test, y_pred)"
      ],
      "metadata": {
        "id": "I9TbOOG9vmdg"
      },
      "execution_count": 4,
      "outputs": []
    },
    {
      "cell_type": "code",
      "source": [
        "calculo_metricas(Ridge(), X_train, y_train, X_test, y_test)"
      ],
      "metadata": {
        "colab": {
          "base_uri": "https://localhost:8080/"
        },
        "id": "87XwMefewGCg",
        "outputId": "b8068232-a149-4458-ad9d-453b1ac73c7e"
      },
      "execution_count": 5,
      "outputs": [
        {
          "output_type": "execute_result",
          "data": {
            "text/plain": [
              "(11.98590149724332, 6.410415069131133)"
            ]
          },
          "metadata": {},
          "execution_count": 5
        }
      ]
    },
    {
      "cell_type": "code",
      "source": [
        "calculo_metricas(Lasso(), X_train, y_train, X_test, y_test)"
      ],
      "metadata": {
        "colab": {
          "base_uri": "https://localhost:8080/"
        },
        "id": "Fa33DDFdwJpf",
        "outputId": "8cdf4286-e6dd-4fda-9b10-6bd6c8004b67"
      },
      "execution_count": 6,
      "outputs": [
        {
          "output_type": "execute_result",
          "data": {
            "text/plain": [
              "(12.139860898292211, 6.367633533474833)"
            ]
          },
          "metadata": {},
          "execution_count": 6
        }
      ]
    },
    {
      "cell_type": "code",
      "source": [
        "calculo_metricas(ElasticNet(), X_train, y_train, X_test, y_test)"
      ],
      "metadata": {
        "colab": {
          "base_uri": "https://localhost:8080/"
        },
        "id": "-KUs0le1wXXf",
        "outputId": "8f88315f-e089-43ee-a819-8e79a35f90da"
      },
      "execution_count": 7,
      "outputs": [
        {
          "output_type": "execute_result",
          "data": {
            "text/plain": [
              "(12.074066289867494, 6.354467092956616)"
            ]
          },
          "metadata": {},
          "execution_count": 7
        }
      ]
    },
    {
      "cell_type": "code",
      "source": [
        "gs = GridSearchCV(Ridge(),\n",
        "                  param_grid={'alpha':np.random.uniform(0.5,10, size=50)},\n",
        "                  cv=3, scoring='neg_mean_squared_error')"
      ],
      "metadata": {
        "id": "Wk1eVUzwwdnc"
      },
      "execution_count": 15,
      "outputs": []
    },
    {
      "cell_type": "code",
      "source": [
        "gs.fit(X_train, y_train)"
      ],
      "metadata": {
        "colab": {
          "base_uri": "https://localhost:8080/"
        },
        "id": "6EyZrBBxwbwX",
        "outputId": "84c42bf1-0239-4568-a99a-9e5225f10b25"
      },
      "execution_count": 16,
      "outputs": [
        {
          "output_type": "execute_result",
          "data": {
            "text/plain": [
              "GridSearchCV(cv=3, estimator=Ridge(),\n",
              "             param_grid={'alpha': array([0.54272581, 1.76540262, 0.90470475, 3.21347216, 7.96937665,\n",
              "       4.57540034, 3.0684755 , 5.31041556, 8.65883936, 7.545327  ,\n",
              "       3.82096723, 2.14673874, 5.25474373, 8.19500698, 4.82723539,\n",
              "       8.45518044, 7.68882349, 2.15016942, 8.32164564, 2.27522066,\n",
              "       3.54339321, 7.45455919, 4.76974612, 5.11712318, 2.79199575,\n",
              "       2.3778085 , 1.47578222, 2.12592616, 6.5632835 , 7.69975342,\n",
              "       1.36100426, 5.03780837, 9.3038897 , 6.27292785, 7.21213315,\n",
              "       4.77110016, 0.76628302, 5.92852387, 7.92078762, 2.65409785,\n",
              "       4.01489977, 8.24457646, 6.55462263, 3.31325366, 6.72161929,\n",
              "       9.57080194, 8.81252607, 2.40270531, 9.17742113, 2.57121622])},\n",
              "             scoring='neg_mean_squared_error')"
            ]
          },
          "metadata": {},
          "execution_count": 16
        }
      ]
    },
    {
      "cell_type": "code",
      "source": [
        "gs.best_params_"
      ],
      "metadata": {
        "colab": {
          "base_uri": "https://localhost:8080/"
        },
        "id": "1C2rICukw_3A",
        "outputId": "abbfb946-bd28-467d-ae0a-d899fee266f5"
      },
      "execution_count": 17,
      "outputs": [
        {
          "output_type": "execute_result",
          "data": {
            "text/plain": [
              "{'alpha': 3.3132536567482878}"
            ]
          },
          "metadata": {},
          "execution_count": 17
        }
      ]
    },
    {
      "cell_type": "code",
      "source": [
        "gs = GridSearchCV(Lasso(),\n",
        "                  param_grid={'alpha':np.random.uniform(0.5,10, size=50)},\n",
        "                  cv=3, scoring='neg_mean_squared_error')"
      ],
      "metadata": {
        "id": "hBAqc3qPxMgo"
      },
      "execution_count": 18,
      "outputs": []
    },
    {
      "cell_type": "code",
      "source": [
        "gs.fit(X_train, y_train)"
      ],
      "metadata": {
        "colab": {
          "base_uri": "https://localhost:8080/"
        },
        "id": "HCxgtJsExhSY",
        "outputId": "b49118b7-30f0-4212-9671-775bdef0fbda"
      },
      "execution_count": 19,
      "outputs": [
        {
          "output_type": "execute_result",
          "data": {
            "text/plain": [
              "GridSearchCV(cv=3, estimator=Lasso(),\n",
              "             param_grid={'alpha': array([8.86793609, 8.38117589, 7.09598926, 0.57702474, 6.85326928,\n",
              "       4.57429272, 1.76998598, 3.51561445, 8.02084653, 3.92004876,\n",
              "       4.0704939 , 9.02853746, 2.56300635, 4.75655859, 0.62413314,\n",
              "       1.79349745, 7.3294928 , 0.83838098, 5.85190743, 9.50952014,\n",
              "       8.9474955 , 3.33001249, 2.56548281, 0.95967841, 4.66125774,\n",
              "       1.04276215, 3.58951562, 1.7013962 , 5.67945256, 7.03800319,\n",
              "       5.94511465, 4.18130203, 4.51495421, 3.55958793, 5.29444906,\n",
              "       4.55473144, 4.16658858, 9.59742318, 4.28415829, 0.98279054,\n",
              "       3.01304485, 6.33418077, 1.21791605, 0.51145636, 5.81545919,\n",
              "       2.12536127, 7.46186644, 3.87016583, 1.05797197, 7.55134718])},\n",
              "             scoring='neg_mean_squared_error')"
            ]
          },
          "metadata": {},
          "execution_count": 19
        }
      ]
    },
    {
      "cell_type": "code",
      "source": [
        "gs.best_params_"
      ],
      "metadata": {
        "colab": {
          "base_uri": "https://localhost:8080/"
        },
        "id": "gDGOC1d9xiuA",
        "outputId": "7eb9c549-40b4-4cc1-edb6-6e127bc6ef10"
      },
      "execution_count": 20,
      "outputs": [
        {
          "output_type": "execute_result",
          "data": {
            "text/plain": [
              "{'alpha': 0.5114563558197721}"
            ]
          },
          "metadata": {},
          "execution_count": 20
        }
      ]
    },
    {
      "cell_type": "code",
      "source": [
        "gs = GridSearchCV(ElasticNet(),\n",
        "                  param_grid={'alpha':np.random.uniform(0.5,10, size=50),\n",
        "                              'l1_ratio':np.arange(0.1,1,0.1)},\n",
        "                  cv=3, scoring='neg_mean_squared_error')"
      ],
      "metadata": {
        "id": "6wGkA8v0xlMZ"
      },
      "execution_count": 21,
      "outputs": []
    },
    {
      "cell_type": "code",
      "source": [
        "gs.fit(X_train, y_train)"
      ],
      "metadata": {
        "colab": {
          "base_uri": "https://localhost:8080/"
        },
        "id": "c8E47QIcx6vZ",
        "outputId": "be8aa59f-120a-40b3-9726-72f5408e2ed9"
      },
      "execution_count": 22,
      "outputs": [
        {
          "output_type": "execute_result",
          "data": {
            "text/plain": [
              "GridSearchCV(cv=3, estimator=ElasticNet(),\n",
              "             param_grid={'alpha': array([8.84897204, 8.00184129, 2.96007222, 7.54567356, 2.93242505,\n",
              "       1.32890743, 7.11441841, 9.78580592, 9.85155968, 3.71361923,\n",
              "       3.48666713, 9.31784965, 3.71595902, 0.9522177 , 2.44561458,\n",
              "       9.36064362, 4.69600982, 1.92255743, 6.89302462, 5.10823708,\n",
              "       1.40856384, 1.05082439, 9.67026032, 8.85186472, 7.55520421,\n",
              "       6.299891...45589, 1.60268705, 3.64653104, 4.57636776,\n",
              "       0.55968266, 2.43424711, 4.37497022, 4.01410662, 2.20237998,\n",
              "       9.15261769, 8.49450714, 4.53271115, 3.73343164, 5.77096618,\n",
              "       5.11897447, 7.8850622 , 0.58214274, 2.61281265, 7.66177776,\n",
              "       6.15571973, 5.84175946, 8.83197307, 3.69466326, 0.97070936]),\n",
              "                         'l1_ratio': array([0.1, 0.2, 0.3, 0.4, 0.5, 0.6, 0.7, 0.8, 0.9])},\n",
              "             scoring='neg_mean_squared_error')"
            ]
          },
          "metadata": {},
          "execution_count": 22
        }
      ]
    },
    {
      "cell_type": "code",
      "source": [
        "gs.best_params_"
      ],
      "metadata": {
        "colab": {
          "base_uri": "https://localhost:8080/"
        },
        "id": "JA10c2CDx9mx",
        "outputId": "b9ada241-1b9f-42f0-ae3f-734a4edea0f1"
      },
      "execution_count": 23,
      "outputs": [
        {
          "output_type": "execute_result",
          "data": {
            "text/plain": [
              "{'alpha': 0.5596826617872519, 'l1_ratio': 0.1}"
            ]
          },
          "metadata": {},
          "execution_count": 23
        }
      ]
    },
    {
      "cell_type": "code",
      "source": [
        "calculo_metricas(ElasticNet(**{'alpha': 0.5596826617872519, 'l1_ratio': 0.1}), X_train, y_train, X_test, y_test)"
      ],
      "metadata": {
        "colab": {
          "base_uri": "https://localhost:8080/"
        },
        "id": "jl2A9EhPyBqZ",
        "outputId": "a1abf664-af00-463e-f58f-7ac8b706fa4a"
      },
      "execution_count": 24,
      "outputs": [
        {
          "output_type": "execute_result",
          "data": {
            "text/plain": [
              "(12.004062156363096, 6.368150719612897)"
            ]
          },
          "metadata": {},
          "execution_count": 24
        }
      ]
    },
    {
      "cell_type": "code",
      "source": [
        "modelo = ElasticNet(**{'alpha': 0.5596826617872519, 'l1_ratio': 0.1})\n",
        "modelo.fit(X, y)"
      ],
      "metadata": {
        "colab": {
          "base_uri": "https://localhost:8080/"
        },
        "id": "wLJhHXUp0LB0",
        "outputId": "70fae2bd-f108-4c60-c5f1-2d78b11d359b"
      },
      "execution_count": 26,
      "outputs": [
        {
          "output_type": "execute_result",
          "data": {
            "text/plain": [
              "ElasticNet(alpha=0.5596826617872519, l1_ratio=0.1)"
            ]
          },
          "metadata": {},
          "execution_count": 26
        }
      ]
    },
    {
      "cell_type": "code",
      "source": [
        "import pickle"
      ],
      "metadata": {
        "id": "Sj7R1ZlNyQdA"
      },
      "execution_count": 25,
      "outputs": []
    },
    {
      "cell_type": "code",
      "source": [
        "pickle.dump(modelo, open('model.pickle', 'wb'))"
      ],
      "metadata": {
        "id": "-5xgh7ug0IDZ"
      },
      "execution_count": 27,
      "outputs": []
    },
    {
      "cell_type": "markdown",
      "source": [
        "https://labeconometria-pred-elastic-net-app-7m9n97.streamlitapp.com/"
      ],
      "metadata": {
        "id": "e4HFI38j1ePW"
      }
    },
    {
      "cell_type": "code",
      "source": [],
      "metadata": {
        "id": "YwLpZUwU0VDx"
      },
      "execution_count": null,
      "outputs": []
    }
  ]
}